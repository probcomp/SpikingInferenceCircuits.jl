{
 "cells": [
  {
   "cell_type": "code",
   "execution_count": 13,
   "metadata": {},
   "outputs": [],
   "source": [
    "import json"
   ]
  },
  {
   "cell_type": "code",
   "execution_count": 14,
   "metadata": {},
   "outputs": [],
   "source": [
    "with open('training_data.json') as f:\n",
    "    data = json.load(f)\n",
    "\n",
    "n_positions = len(data['Positions'])"
   ]
  },
  {
   "cell_type": "code",
   "execution_count": 15,
   "metadata": {},
   "outputs": [],
   "source": [
    "import torch"
   ]
  },
  {
   "cell_type": "code",
   "execution_count": 35,
   "metadata": {},
   "outputs": [],
   "source": [
    "def posToTensor(pos):\n",
    "    tensor = torch.zeros(1, n_positions)\n",
    "    tensor[0][pos - 1] = 1\n",
    "    return tensor"
   ]
  },
  {
   "cell_type": "code",
   "execution_count": 72,
   "metadata": {},
   "outputs": [],
   "source": [
    "import torch.nn as nn\n",
    "\n",
    "class RNN(nn.Module):\n",
    "    def __init__(self, input_size, hidden_size, output_size, hidden_layer_size=None, n_hidden_layers=3):\n",
    "        super(RNN, self).__init__()\n",
    "\n",
    "        if hidden_layer_size is None:\n",
    "            hidden_layer_size = input_size + hidden_size\n",
    "\n",
    "        self.hidden_size = hidden_size\n",
    "\n",
    "        self.i2l1 = nn.Linear(input_size + hidden_size, hidden_layer_size)\n",
    "        self.inner_layers = nn.ModuleList([nn.Linear(hidden_layer_size, hidden_layer_size) for _ in range(n_hidden_layers - 1)])\n",
    "        self.l2o = nn.Linear(hidden_layer_size, output_size)\n",
    "        self.l2h = nn.Linear(hidden_layer_size, hidden_size)\n",
    "\n",
    "        self.softmax = nn.LogSoftmax(dim=1)\n",
    "\n",
    "    def forward(self, input, hidden):\n",
    "        combined = torch.cat((input, hidden), 1)\n",
    "\n",
    "        l = self.i2l1(combined)\n",
    "        for layer in self.inner_layers:\n",
    "            l = layer(l)\n",
    "        hidden = self.l2h(l)\n",
    "        output = self.softmax(self.l2o(l))\n",
    "\n",
    "        return output, hidden\n",
    "\n",
    "    def initHidden(self):\n",
    "        return torch.zeros(1, self.hidden_size)\n",
    "    \n",
    "n_hidden = 64\n",
    "rnn = RNN(n_positions, n_hidden, n_positions)"
   ]
  },
  {
   "cell_type": "code",
   "execution_count": 73,
   "metadata": {},
   "outputs": [],
   "source": [
    "input = posToTensor(2)\n",
    "hidden = torch.zeros(1, n_hidden)\n",
    "output, next_hidden = rnn(input, hidden)"
   ]
  },
  {
   "cell_type": "code",
   "execution_count": 36,
   "metadata": {},
   "outputs": [
    {
     "data": {
      "text/plain": [
       "tensor([[[0., 0., 0., 0., 0., 0., 0., 0., 0., 0., 0., 0., 0., 0., 0., 0., 1.,\n",
       "          0., 0., 0.]],\n",
       "\n",
       "        [[0., 0., 0., 0., 0., 0., 0., 0., 0., 0., 0., 0., 0., 0., 0., 1., 0.,\n",
       "          0., 0., 0.]],\n",
       "\n",
       "        [[0., 0., 0., 0., 0., 0., 0., 0., 0., 0., 0., 0., 0., 0., 0., 0., 1.,\n",
       "          0., 0., 0.]],\n",
       "\n",
       "        [[0., 0., 0., 0., 0., 0., 0., 0., 0., 0., 0., 0., 0., 0., 0., 0., 1.,\n",
       "          0., 0., 0.]],\n",
       "\n",
       "        [[0., 0., 0., 0., 0., 0., 0., 0., 0., 0., 0., 0., 0., 0., 0., 1., 0.,\n",
       "          0., 0., 0.]],\n",
       "\n",
       "        [[0., 0., 0., 0., 0., 0., 0., 0., 0., 0., 0., 0., 0., 1., 0., 0., 0.,\n",
       "          0., 0., 0.]],\n",
       "\n",
       "        [[0., 0., 0., 0., 0., 0., 0., 0., 0., 0., 0., 0., 0., 0., 1., 0., 0.,\n",
       "          0., 0., 0.]],\n",
       "\n",
       "        [[0., 0., 0., 0., 0., 0., 0., 0., 0., 0., 0., 1., 0., 0., 0., 0., 0.,\n",
       "          0., 0., 0.]],\n",
       "\n",
       "        [[0., 0., 0., 0., 0., 0., 0., 0., 0., 1., 0., 0., 0., 0., 0., 0., 0.,\n",
       "          0., 0., 0.]],\n",
       "\n",
       "        [[0., 0., 0., 0., 0., 0., 0., 0., 1., 0., 0., 0., 0., 0., 0., 0., 0.,\n",
       "          0., 0., 0.]]])"
      ]
     },
     "execution_count": 36,
     "metadata": {},
     "output_type": "execute_result"
    }
   ],
   "source": [
    "import random\n",
    "def randomChoice(l):\n",
    "    return l[random.randint(0, len(l) - 1)]\n",
    "\n",
    "# Outputs a <traj_length x 1 x n_positions> tensor\n",
    "# giving the observation trajectory of a random example\n",
    "def randomTrainingExample():\n",
    "    trajectory = randomChoice(data['traces'])\n",
    "    obs_trajectory = [state['obs'] for state in trajectory]\n",
    "    obs_vec_list = [posToTensor(pos) for pos in obs_trajectory]\n",
    "    return torch.stack(obs_vec_list)\n",
    "\n",
    "randomTrainingExample()"
   ]
  },
  {
   "cell_type": "code",
   "execution_count": 60,
   "metadata": {},
   "outputs": [],
   "source": [
    "def fromOneHot(tensor):\n",
    "    return torch.argmax(tensor, dim=1)"
   ]
  },
  {
   "cell_type": "code",
   "execution_count": 74,
   "metadata": {},
   "outputs": [],
   "source": [
    "\n",
    "criterion = nn.NLLLoss()\n",
    "learning_rate = 0.001\n",
    "def train(example):\n",
    "    hidden = rnn.initHidden()\n",
    "    rnn.zero_grad()\n",
    "\n",
    "    loss = 0\n",
    "    for i in range(example.size()[0] - 1):\n",
    "        input = example[i]\n",
    "        target = example[i + 1]\n",
    "        output, hidden = rnn(input, hidden)\n",
    "        loss += criterion(output, fromOneHot(target))\n",
    "\n",
    "    loss.backward()\n",
    "\n",
    "    # Add parameters' gradients to their values, multiplied by learning rate\n",
    "    for p in rnn.parameters():\n",
    "        p.data.add_(p.grad.data, alpha=-learning_rate)\n",
    "\n",
    "    return output, loss.item() / example.size()[0]\n"
   ]
  },
  {
   "cell_type": "code",
   "execution_count": 75,
   "metadata": {},
   "outputs": [
    {
     "data": {
      "text/plain": [
       "(tensor([[-2.9976, -2.9682, -3.0320, -2.9806, -2.8874, -3.1427, -3.0930, -3.0284,\n",
       "          -3.1772, -2.9679, -2.9913, -3.0066, -2.8912, -2.9898, -2.9274, -2.9789,\n",
       "          -3.0145, -3.0643, -2.9395, -2.8925]], grad_fn=<LogSoftmaxBackward0>),\n",
       " 2.764351654052734)"
      ]
     },
     "execution_count": 75,
     "metadata": {},
     "output_type": "execute_result"
    }
   ],
   "source": [
    "train(randomTrainingExample())"
   ]
  },
  {
   "cell_type": "code",
   "execution_count": 76,
   "metadata": {},
   "outputs": [
    {
     "name": "stdout",
     "output_type": "stream",
     "text": [
      "500 5% (0m 0s) 2.7967\n",
      "1000 10% (0m 1s) 3.0681\n",
      "1500 15% (0m 2s) 1.7881\n",
      "2000 20% (0m 2s) 1.1147\n",
      "2500 25% (0m 3s) 0.8409\n",
      "3000 30% (0m 4s) 1.0708\n",
      "3500 35% (0m 4s) 1.1023\n",
      "4000 40% (0m 5s) 1.6576\n",
      "4500 45% (0m 6s) 0.8940\n",
      "5000 50% (0m 7s) 1.0185\n",
      "5500 55% (0m 7s) 1.7092\n",
      "6000 60% (0m 8s) 0.7239\n",
      "6500 65% (0m 9s) 1.8742\n",
      "7000 70% (0m 9s) 0.9891\n",
      "7500 75% (0m 10s) 1.6290\n",
      "8000 80% (0m 11s) 1.7315\n",
      "8500 85% (0m 12s) 1.4318\n",
      "9000 90% (0m 12s) 0.9961\n",
      "9500 95% (0m 13s) 2.1295\n",
      "10000 100% (0m 14s) 1.1619\n"
     ]
    }
   ],
   "source": [
    "import time\n",
    "import math\n",
    "n_iters = 10000\n",
    "print_every = 500\n",
    "plot_every = 100\n",
    "\n",
    "# Keep track of losses for plotting\n",
    "current_loss = 0\n",
    "all_losses = []\n",
    "\n",
    "def timeSince(since):\n",
    "    now = time.time()\n",
    "    s = now - since\n",
    "    m = math.floor(s / 60)\n",
    "    s -= m * 60\n",
    "    return '%dm %ds' % (m, s)\n",
    "\n",
    "start = time.time()\n",
    "for iter in range(1, n_iters + 1):\n",
    "    example = randomTrainingExample()\n",
    "    output, loss = train(example)\n",
    "    current_loss += loss\n",
    "\n",
    "        # Print iter number, loss, name and guess\n",
    "    if iter % print_every == 0:\n",
    "        print('%d %d%% (%s) %.4f' % (iter, iter / n_iters * 100, timeSince(start), loss))\n",
    "\n",
    "    # Add current loss avg to list of losses\n",
    "    if iter % plot_every == 0:\n",
    "        all_losses.append(current_loss / plot_every)\n",
    "        current_loss = 0"
   ]
  },
  {
   "cell_type": "code",
   "execution_count": 77,
   "metadata": {},
   "outputs": [
    {
     "data": {
      "text/plain": [
       "[<matplotlib.lines.Line2D at 0x129c35cf0>]"
      ]
     },
     "execution_count": 77,
     "metadata": {},
     "output_type": "execute_result"
    },
    {
     "data": {
      "image/png": "[encoded data removed]",
      "text/plain": [
       "<Figure size 640x480 with 1 Axes>"
      ]
     },
     "metadata": {},
     "output_type": "display_data"
    }
   ],
   "source": [
    "import matplotlib.pyplot as plt\n",
    "import matplotlib.ticker as ticker\n",
    "\n",
    "plt.figure()\n",
    "plt.plot(all_losses)"
   ]
  },
  {
   "cell_type": "code",
   "execution_count": null,
   "metadata": {},
   "outputs": [],
   "source": []
  }
 ],
 "metadata": {
  "kernelspec": {
   "display_name": "Python 3",
   "language": "python",
   "name": "python3"
  },
  "language_info": {
   "codemirror_mode": {
    "name": "ipython",
    "version": 3
   },
   "file_extension": ".py",
   "mimetype": "text/x-python",
   "name": "python",
   "nbconvert_exporter": "python",
   "pygments_lexer": "ipython3",
   "version": "3.10.9"
  },
  "orig_nbformat": 4,
  "vscode": {
   "interpreter": {
    "hash": "b0fa6594d8f4cbf19f97940f81e996739fb7646882a419484c72d19e05852a7e"
   }
  }
 },
 "nbformat": 4,
 "nbformat_minor": 2
}
